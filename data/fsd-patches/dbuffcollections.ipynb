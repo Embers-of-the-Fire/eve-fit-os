{
 "cells": [
  {
   "cell_type": "markdown",
   "metadata": {},
   "source": [
    "# Collect DBuffCollections\n",
    "\n",
    "> About this file:\n",
    ">\n",
    "> This file shows how to generate a list like the `dbuffcollections.yaml`.\n",
    "> But we don't use this as a CI or something like that.\n",
    ">\n",
    "> This is used to demonstrate a simple way to create the list.\n",
    "> The application includes only the list.\n",
    "\n",
    "CCP offers a `dbuffcollections.static`, which is a SQLite3 database.\n",
    "\n",
    "However, we have to process the db to get what we want in a SDE-like format."
   ]
  },
  {
   "cell_type": "code",
   "execution_count": 4,
   "metadata": {},
   "outputs": [],
   "source": [
    "import pickle\n",
    "import sqlite3\n",
    "import json\n",
    "import yaml"
   ]
  },
  {
   "cell_type": "code",
   "execution_count": 7,
   "metadata": {},
   "outputs": [],
   "source": [
    "## Load localization data\n",
    "## You may change the language, like `localization_fsd_en-us.pickle`\n",
    "with open('../index-cache/staticdata/localization_fsd_zh.pickle', 'rb') as f:\n",
    "    _, loc = pickle.load(f)"
   ]
  },
  {
   "cell_type": "code",
   "execution_count": 3,
   "metadata": {},
   "outputs": [],
   "source": [
    "db = sqlite3.connect('../index-cache/staticdata/dbuffcollections.static')\n",
    "cursor = db.cursor()"
   ]
  },
  {
   "cell_type": "code",
   "execution_count": 15,
   "metadata": {},
   "outputs": [],
   "source": [
    "data = {}\n",
    "for row in cursor.execute(\"SELECT * FROM cache\"):\n",
    "    id = int(row[0])\n",
    "    content = json.loads(row[1])\n",
    "    ## The `displayNameID` field is the key of the localization data\n",
    "    if \"displayNameID\" in content:\n",
    "        name = loc[content[\"displayNameID\"]][0]\n",
    "        content[\"displayName\"] = name\n",
    "    content[\"buffID\"] = id\n",
    "    data[id] = content"
   ]
  },
  {
   "cell_type": "code",
   "execution_count": 16,
   "metadata": {},
   "outputs": [],
   "source": [
    "with open('./dbuffcollections.yaml', 'w+', encoding='utf-8') as f:\n",
    "    yaml.dump(data, f, allow_unicode=True, indent=2, sort_keys=True)"
   ]
  }
 ],
 "metadata": {
  "kernelspec": {
   "display_name": "Python 3",
   "language": "python",
   "name": "python3"
  },
  "language_info": {
   "codemirror_mode": {
    "name": "ipython",
    "version": 3
   },
   "file_extension": ".py",
   "mimetype": "text/x-python",
   "name": "python",
   "nbconvert_exporter": "python",
   "pygments_lexer": "ipython3",
   "version": "3.12.4"
  }
 },
 "nbformat": 4,
 "nbformat_minor": 2
}
